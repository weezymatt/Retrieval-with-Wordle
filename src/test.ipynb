{
 "cells": [
  {
   "cell_type": "code",
   "execution_count": 1,
   "id": "792f372a",
   "metadata": {},
   "outputs": [],
   "source": [
    "from player.inverted_index import InvertedIndex\n",
    "from player.inverted_intersect import InvertedIntersect\n",
    "from player.wordle_scorer import WordleGuessScorer\n",
    "from collections import Counter\n",
    "\n",
    "from game.wordle import Wordle"
   ]
  },
  {
   "cell_type": "code",
   "execution_count": 2,
   "id": "8c3cb327",
   "metadata": {},
   "outputs": [],
   "source": [
    "game = Wordle()\n",
    "inv_index = InvertedIndex()\n",
    "inv_intersect = InvertedIntersect()"
   ]
  },
  {
   "cell_type": "code",
   "execution_count": 3,
   "id": "17c1e03b",
   "metadata": {},
   "outputs": [],
   "source": [
    "game.set_word_of_the_day('plait')\n",
    "res = game.guess('pares')"
   ]
  },
  {
   "cell_type": "code",
   "execution_count": 11,
   "id": "6ef6a061",
   "metadata": {},
   "outputs": [
    {
     "data": {
      "text/plain": [
       "['pares']"
      ]
     },
     "execution_count": 11,
     "metadata": {},
     "output_type": "execute_result"
    }
   ],
   "source": [
    "words_list = game.get_wordle_words()\n",
    "inv_index.index(words_list)\n",
    "\n",
    "scorer = WordleGuessScorer(words_list)\n",
    "scorer.get_best_guess(scoring_method='zipf')"
   ]
  },
  {
   "cell_type": "code",
   "execution_count": 5,
   "id": "e9cb1569",
   "metadata": {},
   "outputs": [
    {
     "data": {
      "text/plain": [
       "14855"
      ]
     },
     "execution_count": 5,
     "metadata": {},
     "output_type": "execute_result"
    }
   ],
   "source": [
    "scorer.count_words()"
   ]
  },
  {
   "cell_type": "code",
   "execution_count": 6,
   "id": "7f9e0535",
   "metadata": {},
   "outputs": [],
   "source": [
    "# scorer.calculate_word_scores()\n",
    "# scorer.calculate_tfidf()"
   ]
  },
  {
   "cell_type": "code",
   "execution_count": 7,
   "id": "cee91598",
   "metadata": {},
   "outputs": [],
   "source": [
    "words_list = inv_intersect.get_intersection('pares', res, inv_index.index(words_list), game.get_wordle_words())"
   ]
  },
  {
   "cell_type": "code",
   "execution_count": 8,
   "id": "6668536f",
   "metadata": {},
   "outputs": [
    {
     "data": {
      "text/plain": [
       "['peace',\n",
       " 'peach',\n",
       " 'peage',\n",
       " 'peake',\n",
       " 'peaky',\n",
       " 'peare',\n",
       " 'pearl',\n",
       " 'peart',\n",
       " 'pease',\n",
       " 'peasy',\n",
       " 'peaty',\n",
       " 'peavy',\n",
       " 'peaze',\n",
       " 'pecan',\n",
       " 'pecia',\n",
       " 'pedal',\n",
       " 'pegma',\n",
       " 'pekan',\n",
       " 'pekau',\n",
       " 'pelau',\n",
       " 'pelma',\n",
       " 'pelta',\n",
       " 'penal',\n",
       " 'penna',\n",
       " 'peola',\n",
       " 'pepla',\n",
       " 'pesta',\n",
       " 'petal',\n",
       " 'petar',\n",
       " 'phage',\n",
       " 'phang',\n",
       " 'phare',\n",
       " 'pharm',\n",
       " 'phase',\n",
       " 'phasm',\n",
       " 'phial',\n",
       " 'phoca',\n",
       " 'phota',\n",
       " 'phwat',\n",
       " 'phyla',\n",
       " 'phyma',\n",
       " 'physa',\n",
       " 'piani',\n",
       " 'piano',\n",
       " 'pibal',\n",
       " 'pical',\n",
       " 'picra',\n",
       " 'pieta',\n",
       " 'pikau',\n",
       " 'pilae',\n",
       " 'pilaf',\n",
       " 'pilao',\n",
       " 'pilar',\n",
       " 'pilau',\n",
       " 'pilaw',\n",
       " 'pinax',\n",
       " 'pinda',\n",
       " 'pinga',\n",
       " 'pinna',\n",
       " 'pinta',\n",
       " 'pipal',\n",
       " 'pitta',\n",
       " 'piuma',\n",
       " 'pizza',\n",
       " 'place',\n",
       " 'plack',\n",
       " 'plaga',\n",
       " 'plage',\n",
       " 'plaid',\n",
       " 'plaig',\n",
       " 'plain',\n",
       " 'plait',\n",
       " 'planc',\n",
       " 'plane',\n",
       " 'planh',\n",
       " 'plank',\n",
       " 'plant',\n",
       " 'plash',\n",
       " 'plasm',\n",
       " 'plast',\n",
       " 'plate',\n",
       " 'platt',\n",
       " 'platy',\n",
       " 'plaud',\n",
       " 'plaur',\n",
       " 'playa',\n",
       " 'plaza',\n",
       " 'plead',\n",
       " 'pleat',\n",
       " 'plena',\n",
       " 'plica',\n",
       " 'ploat',\n",
       " 'poach',\n",
       " 'poaka',\n",
       " 'poake',\n",
       " 'poalo',\n",
       " 'pocan',\n",
       " 'podal',\n",
       " 'podia',\n",
       " 'poena',\n",
       " 'pokal',\n",
       " 'polar',\n",
       " 'polka',\n",
       " 'pompa',\n",
       " 'ponga',\n",
       " 'pooay',\n",
       " 'pooja',\n",
       " 'pooka',\n",
       " 'poopa',\n",
       " 'popia',\n",
       " 'poppa',\n",
       " 'posca',\n",
       " 'potae',\n",
       " 'potai',\n",
       " 'powan',\n",
       " 'praam',\n",
       " 'prahu',\n",
       " 'prana',\n",
       " 'prang',\n",
       " 'prank',\n",
       " 'prase',\n",
       " 'prate',\n",
       " 'pratt',\n",
       " 'praty',\n",
       " 'prawn',\n",
       " 'preak',\n",
       " 'presa',\n",
       " 'preta',\n",
       " 'prial',\n",
       " 'prian',\n",
       " 'prima',\n",
       " 'proal',\n",
       " 'prora',\n",
       " 'pruta',\n",
       " 'pryan',\n",
       " 'psalm',\n",
       " 'pshaw',\n",
       " 'psoae',\n",
       " 'psoai',\n",
       " 'psora',\n",
       " 'pucan',\n",
       " 'pucka',\n",
       " 'puffa',\n",
       " 'pujah',\n",
       " 'pukka',\n",
       " 'pulao',\n",
       " 'pulka',\n",
       " 'punga',\n",
       " 'punka',\n",
       " 'pupae',\n",
       " 'pupal',\n",
       " 'puppa',\n",
       " 'putza',\n",
       " 'puzta',\n",
       " 'pygal',\n",
       " 'pzazz']"
      ]
     },
     "execution_count": 8,
     "metadata": {},
     "output_type": "execute_result"
    }
   ],
   "source": [
    "words_list"
   ]
  },
  {
   "cell_type": "code",
   "execution_count": 9,
   "id": "30135422",
   "metadata": {},
   "outputs": [
    {
     "data": {
      "text/plain": [
       "['plane']"
      ]
     },
     "execution_count": 9,
     "metadata": {},
     "output_type": "execute_result"
    }
   ],
   "source": [
    "scorer.recompute_scoring(words_list)\n",
    "scorer.get_best_guess(scoring_method='zipf_idf')"
   ]
  },
  {
   "cell_type": "code",
   "execution_count": 19,
   "id": "93d5e30f",
   "metadata": {},
   "outputs": [],
   "source": [
    "res = game.guess('pelta')"
   ]
  },
  {
   "cell_type": "code",
   "execution_count": 20,
   "id": "656d5df1",
   "metadata": {},
   "outputs": [],
   "source": [
    "words_list = inv_intersect.get_intersection('pelta', res, inv_index.index(words_list), game.get_wordle_words())"
   ]
  },
  {
   "cell_type": "code",
   "execution_count": 10,
   "id": "5658167a",
   "metadata": {},
   "outputs": [
    {
     "data": {
      "text/plain": [
       "66"
      ]
     },
     "execution_count": 10,
     "metadata": {},
     "output_type": "execute_result"
    }
   ],
   "source": [
    "len(words_list)"
   ]
  },
  {
   "cell_type": "code",
   "execution_count": 11,
   "id": "3a7a3f92",
   "metadata": {},
   "outputs": [
    {
     "data": {
      "text/plain": [
       "'plane'"
      ]
     },
     "execution_count": 11,
     "metadata": {},
     "output_type": "execute_result"
    }
   ],
   "source": [
    "scorer.recompute_scoring(words_list)\n",
    "scorer.get_best_guess()"
   ]
  },
  {
   "cell_type": "code",
   "execution_count": 12,
   "id": "e5405c6f",
   "metadata": {},
   "outputs": [],
   "source": [
    "res = game.guess('plane')"
   ]
  },
  {
   "cell_type": "code",
   "execution_count": 13,
   "id": "1b3c3175",
   "metadata": {},
   "outputs": [],
   "source": [
    "words_list = inv_intersect.get_intersection('plane', res, inv_index.index(words_list), game.get_wordle_words())"
   ]
  },
  {
   "cell_type": "code",
   "execution_count": 14,
   "id": "a4a59034",
   "metadata": {},
   "outputs": [
    {
     "data": {
      "text/plain": [
       "10"
      ]
     },
     "execution_count": 14,
     "metadata": {},
     "output_type": "execute_result"
    }
   ],
   "source": [
    "len(words_list)"
   ]
  },
  {
   "cell_type": "code",
   "execution_count": 15,
   "id": "b5388819",
   "metadata": {},
   "outputs": [
    {
     "data": {
      "text/plain": [
       "'plaid'"
      ]
     },
     "execution_count": 15,
     "metadata": {},
     "output_type": "execute_result"
    }
   ],
   "source": [
    "scorer.recompute_scoring(words_list)\n",
    "scorer.get_best_guess()"
   ]
  },
  {
   "cell_type": "code",
   "execution_count": 16,
   "id": "a934df20",
   "metadata": {},
   "outputs": [],
   "source": [
    "res = game.guess('plaid')"
   ]
  },
  {
   "cell_type": "code",
   "execution_count": 17,
   "id": "58532913",
   "metadata": {},
   "outputs": [],
   "source": [
    "words_list = inv_intersect.get_intersection('plaid', res, inv_index.index(words_list), game.get_wordle_words())"
   ]
  },
  {
   "cell_type": "code",
   "execution_count": 18,
   "id": "c026842d",
   "metadata": {},
   "outputs": [
    {
     "data": {
      "text/plain": [
       "3"
      ]
     },
     "execution_count": 18,
     "metadata": {},
     "output_type": "execute_result"
    }
   ],
   "source": [
    "len(words_list)"
   ]
  },
  {
   "cell_type": "code",
   "execution_count": 19,
   "id": "322c40eb",
   "metadata": {},
   "outputs": [
    {
     "data": {
      "text/plain": [
       "'plaig'"
      ]
     },
     "execution_count": 19,
     "metadata": {},
     "output_type": "execute_result"
    }
   ],
   "source": [
    "scorer.recompute_scoring(words_list)\n",
    "scorer.get_best_guess()"
   ]
  },
  {
   "cell_type": "code",
   "execution_count": 5,
   "id": "6b0222d4",
   "metadata": {},
   "outputs": [],
   "source": [
    "#openai api"
   ]
  },
  {
   "cell_type": "code",
   "execution_count": 1,
   "id": "353146c2",
   "metadata": {},
   "outputs": [],
   "source": [
    "import openai"
   ]
  },
  {
   "cell_type": "code",
   "execution_count": 2,
   "id": "4ccceb58",
   "metadata": {},
   "outputs": [],
   "source": [
    "from dotenv import load_dotenv\n",
    "import os"
   ]
  },
  {
   "cell_type": "code",
   "execution_count": 3,
   "id": "86188437",
   "metadata": {},
   "outputs": [
    {
     "data": {
      "text/plain": [
       "True"
      ]
     },
     "execution_count": 3,
     "metadata": {},
     "output_type": "execute_result"
    }
   ],
   "source": [
    "load_dotenv()"
   ]
  },
  {
   "cell_type": "code",
   "execution_count": 4,
   "id": "b4235f69",
   "metadata": {},
   "outputs": [],
   "source": [
    "openai.api_key = os.environ.get('OPENAI_API_KEY')"
   ]
  },
  {
   "cell_type": "code",
   "execution_count": 5,
   "id": "3bbcd8fe",
   "metadata": {},
   "outputs": [
    {
     "data": {
      "text/plain": [
       "'sk-proj-U0tZRYm5gmCLVd8d69yhT3BlbkFJRcmmQJ0IoTsa29VP7xIq'"
      ]
     },
     "execution_count": 5,
     "metadata": {},
     "output_type": "execute_result"
    }
   ],
   "source": [
    "openai.api_key"
   ]
  },
  {
   "cell_type": "code",
   "execution_count": 6,
   "id": "42175dc4",
   "metadata": {},
   "outputs": [],
   "source": [
    "prompt_one = \"You are a strategic assistant that loves words and probability \""
   ]
  },
  {
   "cell_type": "code",
   "execution_count": 7,
   "id": "bda43028",
   "metadata": {},
   "outputs": [
    {
     "name": "stdout",
     "output_type": "stream",
     "text": [
      "hello\n",
      "tasks\n",
      "macks\n"
     ]
    }
   ],
   "source": [
    "prompt_two = f'''Given the previous Wordle solutions delimited by backticks,\\ \n",
    "```{input()}, {input()}, {input()} ```, what is the most\\\n",
    "helpful best first guess for tomorrows game? Please explain why this is \\\n",
    "the best choice and enclose the guess in square brackets'''"
   ]
  },
  {
   "cell_type": "code",
   "execution_count": 11,
   "id": "b4cef68b",
   "metadata": {},
   "outputs": [],
   "source": [
    "from openai import OpenAI\n",
    "client = OpenAI()\n",
    "\n",
    "completion = client.chat.completions.create(\n",
    "  model=\"gpt-3.5-turbo\",\n",
    "  messages=[\n",
    "    {\"role\": \"system\", \"content\": prompt_one},\n",
    "      {\"role\": \"user\", \"content\": prompt_two}\n",
    "  ]\n",
    ")\n",
    "variable = (completion.choices[0].message.content)"
   ]
  },
  {
   "cell_type": "code",
   "execution_count": null,
   "id": "6e3b3dbf",
   "metadata": {},
   "outputs": [],
   "source": []
  },
  {
   "cell_type": "code",
   "execution_count": 13,
   "id": "fb4f1b73",
   "metadata": {},
   "outputs": [],
   "source": [
    "import re"
   ]
  },
  {
   "cell_type": "code",
   "execution_count": 14,
   "id": "53d7e7af",
   "metadata": {},
   "outputs": [],
   "source": [
    "best_guess = re.findall(r\"\\[(\\w{1,5})\\]\", variable)[0]"
   ]
  },
  {
   "cell_type": "code",
   "execution_count": 15,
   "id": "12094ddd",
   "metadata": {},
   "outputs": [
    {
     "data": {
      "text/plain": [
       "'brake'"
      ]
     },
     "execution_count": 15,
     "metadata": {},
     "output_type": "execute_result"
    }
   ],
   "source": [
    "best_guess"
   ]
  },
  {
   "cell_type": "code",
   "execution_count": 17,
   "id": "d812c482",
   "metadata": {},
   "outputs": [
    {
     "name": "stdout",
     "output_type": "stream",
     "text": [
      "Enter yesterday's Wordle solution: value\n",
      "Enter the previous Wordle solution: vagye\n",
      "Enter the Wordle solution before: title\n",
      "[The most helpful starting word for the next Wordle game would be \"teary.\" This word is a great choice because it contains a good mix of common vowels and consonants, which can help to quickly eliminate various possibilities and narrow down the potential solutions. Additionally, \"teary\" has a balanced distribution of letters, making it a versatile starting point for deducing the target word. Overall, \"teary\" provides a strong foundation for efficiently solving the Wordle puzzle.]\n",
      "\n"
     ]
    }
   ],
   "source": [
    "import openai\n",
    "from openai import OpenAI\n",
    "from dotenv import load_dotenv\n",
    "import os\n",
    "import re\n",
    "\n",
    "class ChatGPTClient:\n",
    "\tdef __init__(self, api_key):\n",
    "\t\topenai.api_key = api_key\n",
    "\t\tself.client = OpenAI()\n",
    "\n",
    "\n",
    "\tdef get_completion(self, sys_prompt, *user_inputs, engine=\"gpt-3.5-turbo\"):\n",
    "\t\tinput_str = ', '.join([f'\"{inp}' for inp in user_inputs])\n",
    "\t\tprompt = f\"{sys_prompt}\\n```{input_str}```\"\n",
    "\t\tcompletion = self.client.chat.completions.create(\n",
    "\t\t\tmodel=engine,\n",
    "\t\t\tmessages=[\n",
    "\t\t\t\t{\"role\": \"system\", \"content\": \"You are a strategic assistance that loves words and probability.\"},\n",
    "\t\t\t\t{\"role\": \"user\", \"content\": prompt}\n",
    "\t\t\t]\n",
    "\t\t)\n",
    "\t\treturn (completion.choices[0].message.content)\n",
    "\n",
    "def main():\n",
    "\tload_dotenv()\n",
    "\tapi_key = os.environ.get('OPENAI_API_KEY') # Retrieve the API key from the .env\n",
    "\tgpt = ChatGPTClient(api_key)\n",
    "\tprompt= \"Given the previous Wordle solutions delimited by backticks\\\n",
    "\t\t\twhat is the most helpful starting word for the next game?\\\n",
    "\t\t\tPlease explain why this is the best choice and enclose the\\\n",
    "\t\t\tguess in square brackets.\"\n",
    "\tprev_one=input(\"Enter yesterday's Wordle solution: \")\n",
    "\tprev_two=input(\"Enter the previous Wordle solution: \")\n",
    "\tprev_three=input(\"Enter the Wordle solution before: \")\n",
    "\n",
    "\tprint(gpt.get_completion(prompt, prev_three, prev_two, prev_one))\n",
    "# \tbest_guess = re.findall(r\"\\[(\\w{1,5})\\]\", completion)[0]\n",
    "# \tprint(best_guess)\n",
    "\n",
    "if __name__ == '__main__':\n",
    "\tmain()"
   ]
  },
  {
   "cell_type": "code",
   "execution_count": null,
   "id": "76c82572",
   "metadata": {},
   "outputs": [],
   "source": []
  }
 ],
 "metadata": {
  "kernelspec": {
   "display_name": "Python 3 (ipykernel)",
   "language": "python",
   "name": "python3"
  },
  "language_info": {
   "codemirror_mode": {
    "name": "ipython",
    "version": 3
   },
   "file_extension": ".py",
   "mimetype": "text/x-python",
   "name": "python",
   "nbconvert_exporter": "python",
   "pygments_lexer": "ipython3",
   "version": "3.11.5"
  }
 },
 "nbformat": 4,
 "nbformat_minor": 5
}
