{
 "cells": [
  {
   "cell_type": "code",
   "execution_count": 1,
   "id": "792f372a",
   "metadata": {},
   "outputs": [],
   "source": [
    "from player.inverted_index import InvertedIndex\n",
    "from player.inverted_intersect import InvertedIntersect\n",
    "from player.wordle_scorer import WordleGuessScorer\n",
    "from collections import Counter\n",
    "\n",
    "from game.wordle import Wordle"
   ]
  },
  {
   "cell_type": "code",
   "execution_count": 2,
   "id": "8c3cb327",
   "metadata": {},
   "outputs": [],
   "source": [
    "game = Wordle()\n",
    "inv_index = InvertedIndex()\n",
    "inv_intersect = InvertedIntersect()"
   ]
  },
  {
   "cell_type": "code",
   "execution_count": 3,
   "id": "17c1e03b",
   "metadata": {},
   "outputs": [],
   "source": [
    "game.set_word_of_the_day('plait')\n",
    "res = game.guess('pares')"
   ]
  },
  {
   "cell_type": "code",
   "execution_count": 4,
   "id": "6ef6a061",
   "metadata": {},
   "outputs": [
    {
     "data": {
      "text/plain": [
       "['pares']"
      ]
     },
     "execution_count": 4,
     "metadata": {},
     "output_type": "execute_result"
    }
   ],
   "source": [
    "words_list = game.get_wordle_words()\n",
    "inv_index.index(words_list)\n",
    "\n",
    "scorer = WordleGuessScorer(words_list)\n",
    "scorer.get_best_guess(scoring_method='zipf')"
   ]
  },
  {
   "cell_type": "code",
   "execution_count": 5,
   "id": "e9cb1569",
   "metadata": {},
   "outputs": [
    {
     "data": {
      "text/plain": [
       "14855"
      ]
     },
     "execution_count": 5,
     "metadata": {},
     "output_type": "execute_result"
    }
   ],
   "source": [
    "scorer.count_words()"
   ]
  },
  {
   "cell_type": "code",
   "execution_count": 28,
   "id": "7f9e0535",
   "metadata": {},
   "outputs": [],
   "source": [
    "# scorer.calculate_word_scores()\n",
    "# scorer.calculate_zipf_idf()"
   ]
  },
  {
   "cell_type": "code",
   "execution_count": 15,
   "id": "68ff38a2",
   "metadata": {},
   "outputs": [
    {
     "data": {
      "text/plain": [
       "1.4034371396879424"
      ]
     },
     "execution_count": 15,
     "metadata": {},
     "output_type": "execute_result"
    }
   ],
   "source": [
    "scorer.idf['paris']"
   ]
  },
  {
   "cell_type": "code",
   "execution_count": 16,
   "id": "a2ab3629",
   "metadata": {},
   "outputs": [
    {
     "data": {
      "text/plain": [
       "4.991755732936075"
      ]
     },
     "execution_count": 16,
     "metadata": {},
     "output_type": "execute_result"
    }
   ],
   "source": [
    "scorer.idf['pares']"
   ]
  },
  {
   "cell_type": "code",
   "execution_count": 1,
   "id": "0a5b6c9a",
   "metadata": {},
   "outputs": [],
   "source": [
    "# scorer.scores"
   ]
  },
  {
   "cell_type": "code",
   "execution_count": 2,
   "id": "21e1fc6e",
   "metadata": {},
   "outputs": [],
   "source": [
    "# scorer.calculate_zipf_idf()"
   ]
  },
  {
   "cell_type": "code",
   "execution_count": 6,
   "id": "5e9ffc56",
   "metadata": {},
   "outputs": [],
   "source": [
    "# inv_index.print_index()"
   ]
  },
  {
   "cell_type": "code",
   "execution_count": 7,
   "id": "c6ce6299",
   "metadata": {},
   "outputs": [],
   "source": [
    "# inv_index.index(words_list)"
   ]
  },
  {
   "cell_type": "code",
   "execution_count": 7,
   "id": "cee91598",
   "metadata": {},
   "outputs": [],
   "source": [
    "words_list = inv_intersect.get_intersection('pares', res, inv_index.index(words_list), game.get_wordle_words())"
   ]
  },
  {
   "cell_type": "code",
   "execution_count": 3,
   "id": "6668536f",
   "metadata": {},
   "outputs": [],
   "source": [
    "# words_list"
   ]
  },
  {
   "cell_type": "code",
   "execution_count": 9,
   "id": "30135422",
   "metadata": {},
   "outputs": [
    {
     "data": {
      "text/plain": [
       "['plane']"
      ]
     },
     "execution_count": 9,
     "metadata": {},
     "output_type": "execute_result"
    }
   ],
   "source": [
    "scorer.recompute_scoring(words_list)\n",
    "scorer.get_best_guess(scoring_method='zipf_idf')"
   ]
  },
  {
   "cell_type": "code",
   "execution_count": 19,
   "id": "93d5e30f",
   "metadata": {},
   "outputs": [],
   "source": [
    "res = game.guess('pelta')"
   ]
  },
  {
   "cell_type": "code",
   "execution_count": 20,
   "id": "656d5df1",
   "metadata": {},
   "outputs": [],
   "source": [
    "words_list = inv_intersect.get_intersection('pelta', res, inv_index.index(words_list), game.get_wordle_words())"
   ]
  },
  {
   "cell_type": "code",
   "execution_count": 10,
   "id": "5658167a",
   "metadata": {},
   "outputs": [
    {
     "data": {
      "text/plain": [
       "66"
      ]
     },
     "execution_count": 10,
     "metadata": {},
     "output_type": "execute_result"
    }
   ],
   "source": [
    "len(words_list)"
   ]
  },
  {
   "cell_type": "code",
   "execution_count": 11,
   "id": "3a7a3f92",
   "metadata": {},
   "outputs": [
    {
     "data": {
      "text/plain": [
       "'plane'"
      ]
     },
     "execution_count": 11,
     "metadata": {},
     "output_type": "execute_result"
    }
   ],
   "source": [
    "scorer.recompute_scoring(words_list)\n",
    "scorer.get_best_guess()"
   ]
  },
  {
   "cell_type": "code",
   "execution_count": 12,
   "id": "e5405c6f",
   "metadata": {},
   "outputs": [],
   "source": [
    "res = game.guess('plane')"
   ]
  },
  {
   "cell_type": "code",
   "execution_count": 13,
   "id": "1b3c3175",
   "metadata": {},
   "outputs": [],
   "source": [
    "words_list = inv_intersect.get_intersection('plane', res, inv_index.index(words_list), game.get_wordle_words())"
   ]
  },
  {
   "cell_type": "code",
   "execution_count": 14,
   "id": "a4a59034",
   "metadata": {},
   "outputs": [
    {
     "data": {
      "text/plain": [
       "10"
      ]
     },
     "execution_count": 14,
     "metadata": {},
     "output_type": "execute_result"
    }
   ],
   "source": [
    "len(words_list)"
   ]
  },
  {
   "cell_type": "code",
   "execution_count": 15,
   "id": "b5388819",
   "metadata": {},
   "outputs": [
    {
     "data": {
      "text/plain": [
       "'plaid'"
      ]
     },
     "execution_count": 15,
     "metadata": {},
     "output_type": "execute_result"
    }
   ],
   "source": [
    "scorer.recompute_scoring(words_list)\n",
    "scorer.get_best_guess()"
   ]
  },
  {
   "cell_type": "code",
   "execution_count": 16,
   "id": "a934df20",
   "metadata": {},
   "outputs": [],
   "source": [
    "res = game.guess('plaid')"
   ]
  },
  {
   "cell_type": "code",
   "execution_count": 17,
   "id": "58532913",
   "metadata": {},
   "outputs": [],
   "source": [
    "words_list = inv_intersect.get_intersection('plaid', res, inv_index.index(words_list), game.get_wordle_words())"
   ]
  },
  {
   "cell_type": "code",
   "execution_count": 18,
   "id": "c026842d",
   "metadata": {},
   "outputs": [
    {
     "data": {
      "text/plain": [
       "3"
      ]
     },
     "execution_count": 18,
     "metadata": {},
     "output_type": "execute_result"
    }
   ],
   "source": [
    "len(words_list)"
   ]
  },
  {
   "cell_type": "code",
   "execution_count": 19,
   "id": "322c40eb",
   "metadata": {},
   "outputs": [
    {
     "data": {
      "text/plain": [
       "'plaig'"
      ]
     },
     "execution_count": 19,
     "metadata": {},
     "output_type": "execute_result"
    }
   ],
   "source": [
    "scorer.recompute_scoring(words_list)\n",
    "scorer.get_best_guess()"
   ]
  },
  {
   "cell_type": "code",
   "execution_count": null,
   "id": "be78e321",
   "metadata": {},
   "outputs": [],
   "source": []
  }
 ],
 "metadata": {
  "kernelspec": {
   "display_name": "Python 3 (ipykernel)",
   "language": "python",
   "name": "python3"
  },
  "language_info": {
   "codemirror_mode": {
    "name": "ipython",
    "version": 3
   },
   "file_extension": ".py",
   "mimetype": "text/x-python",
   "name": "python",
   "nbconvert_exporter": "python",
   "pygments_lexer": "ipython3",
   "version": "3.11.5"
  }
 },
 "nbformat": 4,
 "nbformat_minor": 5
}
