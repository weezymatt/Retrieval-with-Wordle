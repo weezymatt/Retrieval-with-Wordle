{
 "cells": [
  {
   "cell_type": "code",
   "execution_count": 1,
   "id": "792f372a",
   "metadata": {},
   "outputs": [],
   "source": [
    "from player.inverted_index import InvertedIndex\n",
    "from player.inverted_intersect import InvertedIntersect\n",
    "from player.wordle_scorer import WordleScorer\n",
    "\n",
    "from game.wordle import Wordle"
   ]
  },
  {
   "cell_type": "code",
   "execution_count": 2,
   "id": "8c3cb327",
   "metadata": {},
   "outputs": [],
   "source": [
    "game = Wordle()\n",
    "inv_index = InvertedIndex()\n",
    "inv_intersect = InvertedIntersect()"
   ]
  },
  {
   "cell_type": "code",
   "execution_count": 3,
   "id": "17c1e03b",
   "metadata": {},
   "outputs": [],
   "source": [
    "game.set_word_of_the_day('plait')\n",
    "res = game.guess('pares')"
   ]
  },
  {
   "cell_type": "code",
   "execution_count": 4,
   "id": "6ef6a061",
   "metadata": {},
   "outputs": [
    {
     "data": {
      "text/plain": [
       "'pares'"
      ]
     },
     "execution_count": 4,
     "metadata": {},
     "output_type": "execute_result"
    }
   ],
   "source": [
    "words_list = game.get_wordle_words()\n",
    "inv_index.index(words_list)\n",
    "\n",
    "scorer = WordleScorer(words_list)\n",
    "scorer.get_best_guess()"
   ]
  },
  {
   "cell_type": "code",
   "execution_count": 5,
   "id": "cee91598",
   "metadata": {},
   "outputs": [],
   "source": [
    "words_list = inv_intersect.get_intersection('pares', res, inv_index.index(words_list), game.get_wordle_words())"
   ]
  },
  {
   "cell_type": "code",
   "execution_count": 6,
   "id": "6668536f",
   "metadata": {},
   "outputs": [
    {
     "data": {
      "text/plain": [
       "['peace',\n",
       " 'peach',\n",
       " 'peage',\n",
       " 'peake',\n",
       " 'peaky',\n",
       " 'peare',\n",
       " 'pearl',\n",
       " 'peart',\n",
       " 'pease',\n",
       " 'peasy',\n",
       " 'peaty',\n",
       " 'peavy',\n",
       " 'peaze',\n",
       " 'pecan',\n",
       " 'pecia',\n",
       " 'pedal',\n",
       " 'pegma',\n",
       " 'pekan',\n",
       " 'pekau',\n",
       " 'pelau',\n",
       " 'pelma',\n",
       " 'pelta',\n",
       " 'penal',\n",
       " 'penna',\n",
       " 'peola',\n",
       " 'pepla',\n",
       " 'pesta',\n",
       " 'petal',\n",
       " 'petar',\n",
       " 'phage',\n",
       " 'phang',\n",
       " 'phare',\n",
       " 'pharm',\n",
       " 'phase',\n",
       " 'phasm',\n",
       " 'phial',\n",
       " 'phoca',\n",
       " 'phota',\n",
       " 'phwat',\n",
       " 'phyla',\n",
       " 'phyma',\n",
       " 'physa',\n",
       " 'piani',\n",
       " 'piano',\n",
       " 'pibal',\n",
       " 'pical',\n",
       " 'picra',\n",
       " 'pieta',\n",
       " 'pikau',\n",
       " 'pilae',\n",
       " 'pilaf',\n",
       " 'pilao',\n",
       " 'pilar',\n",
       " 'pilau',\n",
       " 'pilaw',\n",
       " 'pinax',\n",
       " 'pinda',\n",
       " 'pinga',\n",
       " 'pinna',\n",
       " 'pinta',\n",
       " 'pipal',\n",
       " 'pitta',\n",
       " 'piuma',\n",
       " 'pizza',\n",
       " 'place',\n",
       " 'plack',\n",
       " 'plaga',\n",
       " 'plage',\n",
       " 'plaid',\n",
       " 'plaig',\n",
       " 'plain',\n",
       " 'plait',\n",
       " 'planc',\n",
       " 'plane',\n",
       " 'planh',\n",
       " 'plank',\n",
       " 'plant',\n",
       " 'plash',\n",
       " 'plasm',\n",
       " 'plast',\n",
       " 'plate',\n",
       " 'platt',\n",
       " 'platy',\n",
       " 'plaud',\n",
       " 'plaur',\n",
       " 'playa',\n",
       " 'plaza',\n",
       " 'plead',\n",
       " 'pleat',\n",
       " 'plena',\n",
       " 'plica',\n",
       " 'ploat',\n",
       " 'poach',\n",
       " 'poaka',\n",
       " 'poake',\n",
       " 'poalo',\n",
       " 'pocan',\n",
       " 'podal',\n",
       " 'podia',\n",
       " 'poena',\n",
       " 'pokal',\n",
       " 'polar',\n",
       " 'polka',\n",
       " 'pompa',\n",
       " 'ponga',\n",
       " 'pooay',\n",
       " 'pooja',\n",
       " 'pooka',\n",
       " 'poopa',\n",
       " 'popia',\n",
       " 'poppa',\n",
       " 'posca',\n",
       " 'potae',\n",
       " 'potai',\n",
       " 'powan',\n",
       " 'praam',\n",
       " 'prahu',\n",
       " 'prana',\n",
       " 'prang',\n",
       " 'prank',\n",
       " 'prase',\n",
       " 'prate',\n",
       " 'pratt',\n",
       " 'praty',\n",
       " 'prawn',\n",
       " 'preak',\n",
       " 'presa',\n",
       " 'preta',\n",
       " 'prial',\n",
       " 'prian',\n",
       " 'prima',\n",
       " 'proal',\n",
       " 'prora',\n",
       " 'pruta',\n",
       " 'pryan',\n",
       " 'psalm',\n",
       " 'pshaw',\n",
       " 'psoae',\n",
       " 'psoai',\n",
       " 'psora',\n",
       " 'pucan',\n",
       " 'pucka',\n",
       " 'puffa',\n",
       " 'pujah',\n",
       " 'pukka',\n",
       " 'pulao',\n",
       " 'pulka',\n",
       " 'punga',\n",
       " 'punka',\n",
       " 'pupae',\n",
       " 'pupal',\n",
       " 'puppa',\n",
       " 'putza',\n",
       " 'puzta',\n",
       " 'pygal',\n",
       " 'pzazz']"
      ]
     },
     "execution_count": 6,
     "metadata": {},
     "output_type": "execute_result"
    }
   ],
   "source": [
    "words_list "
   ]
  },
  {
   "cell_type": "code",
   "execution_count": 7,
   "id": "30135422",
   "metadata": {},
   "outputs": [
    {
     "data": {
      "text/plain": [
       "'pelta'"
      ]
     },
     "execution_count": 7,
     "metadata": {},
     "output_type": "execute_result"
    }
   ],
   "source": [
    "scorer.recompute_scoring(words_list)\n",
    "scorer.get_best_guess()"
   ]
  },
  {
   "cell_type": "code",
   "execution_count": 8,
   "id": "93d5e30f",
   "metadata": {},
   "outputs": [],
   "source": [
    "res = game.guess('pelta')"
   ]
  },
  {
   "cell_type": "code",
   "execution_count": 9,
   "id": "656d5df1",
   "metadata": {},
   "outputs": [],
   "source": [
    "words_list = inv_intersect.get_intersection('pelta', res, inv_index.index(words_list), game.get_wordle_words())"
   ]
  },
  {
   "cell_type": "code",
   "execution_count": 10,
   "id": "5658167a",
   "metadata": {},
   "outputs": [
    {
     "data": {
      "text/plain": [
       "66"
      ]
     },
     "execution_count": 10,
     "metadata": {},
     "output_type": "execute_result"
    }
   ],
   "source": [
    "len(words_list)"
   ]
  },
  {
   "cell_type": "code",
   "execution_count": 11,
   "id": "3a7a3f92",
   "metadata": {},
   "outputs": [
    {
     "data": {
      "text/plain": [
       "'plane'"
      ]
     },
     "execution_count": 11,
     "metadata": {},
     "output_type": "execute_result"
    }
   ],
   "source": [
    "scorer.recompute_scoring(words_list)\n",
    "scorer.get_best_guess()"
   ]
  },
  {
   "cell_type": "code",
   "execution_count": 12,
   "id": "e5405c6f",
   "metadata": {},
   "outputs": [],
   "source": [
    "res = game.guess('plane')"
   ]
  },
  {
   "cell_type": "code",
   "execution_count": 13,
   "id": "1b3c3175",
   "metadata": {},
   "outputs": [],
   "source": [
    "words_list = inv_intersect.get_intersection('plane', res, inv_index.index(words_list), game.get_wordle_words())"
   ]
  },
  {
   "cell_type": "code",
   "execution_count": 14,
   "id": "a4a59034",
   "metadata": {},
   "outputs": [
    {
     "data": {
      "text/plain": [
       "10"
      ]
     },
     "execution_count": 14,
     "metadata": {},
     "output_type": "execute_result"
    }
   ],
   "source": [
    "len(words_list)"
   ]
  },
  {
   "cell_type": "code",
   "execution_count": 15,
   "id": "b5388819",
   "metadata": {},
   "outputs": [
    {
     "data": {
      "text/plain": [
       "'plaid'"
      ]
     },
     "execution_count": 15,
     "metadata": {},
     "output_type": "execute_result"
    }
   ],
   "source": [
    "scorer.recompute_scoring(words_list)\n",
    "scorer.get_best_guess()"
   ]
  },
  {
   "cell_type": "code",
   "execution_count": 16,
   "id": "a934df20",
   "metadata": {},
   "outputs": [],
   "source": [
    "res = game.guess('plaid')"
   ]
  },
  {
   "cell_type": "code",
   "execution_count": 17,
   "id": "58532913",
   "metadata": {},
   "outputs": [],
   "source": [
    "words_list = inv_intersect.get_intersection('plaid', res, inv_index.index(words_list), game.get_wordle_words())"
   ]
  },
  {
   "cell_type": "code",
   "execution_count": 18,
   "id": "c026842d",
   "metadata": {},
   "outputs": [
    {
     "data": {
      "text/plain": [
       "3"
      ]
     },
     "execution_count": 18,
     "metadata": {},
     "output_type": "execute_result"
    }
   ],
   "source": [
    "len(words_list)"
   ]
  },
  {
   "cell_type": "code",
   "execution_count": 19,
   "id": "322c40eb",
   "metadata": {},
   "outputs": [
    {
     "data": {
      "text/plain": [
       "'plaig'"
      ]
     },
     "execution_count": 19,
     "metadata": {},
     "output_type": "execute_result"
    }
   ],
   "source": [
    "scorer.recompute_scoring(words_list)\n",
    "scorer.get_best_guess()"
   ]
  },
  {
   "cell_type": "code",
   "execution_count": null,
   "id": "6b0222d4",
   "metadata": {},
   "outputs": [],
   "source": []
  }
 ],
 "metadata": {
  "kernelspec": {
   "display_name": "Python 3 (ipykernel)",
   "language": "python",
   "name": "python3"
  },
  "language_info": {
   "codemirror_mode": {
    "name": "ipython",
    "version": 3
   },
   "file_extension": ".py",
   "mimetype": "text/x-python",
   "name": "python",
   "nbconvert_exporter": "python",
   "pygments_lexer": "ipython3",
   "version": "3.11.5"
  }
 },
 "nbformat": 4,
 "nbformat_minor": 5
}
